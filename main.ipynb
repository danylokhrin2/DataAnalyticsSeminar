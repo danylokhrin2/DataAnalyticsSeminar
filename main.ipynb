{
 "cells": [
  {
   "cell_type": "code",
   "execution_count": 1,
   "metadata": {},
   "outputs": [
    {
     "name": "stderr",
     "output_type": "stream",
     "text": [
      "c:\\Users\\Danylo\\AppData\\Local\\Programs\\Python\\Python310\\lib\\site-packages\\tqdm\\auto.py:21: TqdmWarning: IProgress not found. Please update jupyter and ipywidgets. See https://ipywidgets.readthedocs.io/en/stable/user_install.html\n",
      "  from .autonotebook import tqdm as notebook_tqdm\n"
     ]
    },
    {
     "name": "stdout",
     "output_type": "stream",
     "text": [
      "No \n",
      "\n"
     ]
    }
   ],
   "source": [
    "import pandas as pd\n",
    "import random\n",
    "\n",
    "from LLM.gpt import send_requestGPT\n",
    "from LLM.gemini import send_requestGemini"
   ]
  },
  {
   "cell_type": "markdown",
   "metadata": {},
   "source": [
    "Check how many unique texts there are in the dataset"
   ]
  },
  {
   "cell_type": "code",
   "execution_count": 3,
   "metadata": {},
   "outputs": [],
   "source": [
    "def unique_values_MASTER():\n",
    "    df = pd.read_csv(\"./data/preprocessed/MASTER.csv\")\n",
    "    unique_text_count = df['text'].nunique()\n",
    "    print(f\"Number of unique values in 'text' column: {unique_text_count}\")"
   ]
  },
  {
   "cell_type": "code",
   "execution_count": null,
   "metadata": {},
   "outputs": [],
   "source": [
    "def populate_row(model):\n",
    "    \n",
    "    df = pd.read_csv(\"./data/result/MASTER.csv\")\n",
    "    system_prompt = \"You are an assistant trained to identify if text contains sexism. Answer ONLY with '1' for Yes or '0' for No. ONLY CHECK FOR SEXISM AND NOT OTHER FORMS OF HATE SPEECH.\"\n",
    "    \n",
    "    nan_rows = df[df[model].isna()]\n",
    "\n",
    "    if not nan_rows.empty:\n",
    "        random_index = random.choice(nan_rows.index)\n",
    "        text_value = df.at[random_index, 'text']\n",
    "        sexism = df.at[random_index, 'SEXISM']\n",
    "        if \"gemini\" in model:\n",
    "            value = send_requestGemini(model, system_prompt, text_value)\n",
    "        else:\n",
    "            value = send_requestGPT(model, system_prompt, text_value)\n",
    "        df.at[random_index, model] = value\n",
    "        print(f\"Populated NaN at index {random_index} with value {value} vs. {sexism} for text: {text_value}\") \n",
    "    else:\n",
    "        print(f\"No NaN values found in {model} column.\")\n",
    "\n",
    "    df.to_csv(\"./data/result/MASTER.csv\", index=False)\n"
   ]
  },
  {
   "cell_type": "markdown",
   "metadata": {},
   "source": [
    "Execute the populate code function multiple times"
   ]
  },
  {
   "cell_type": "code",
   "execution_count": 13,
   "metadata": {},
   "outputs": [
    {
     "name": "stdout",
     "output_type": "stream",
     "text": [
      "Populated NaN at index 4267 with value 1 vs. 0 for text: @user nexactly managed blag career tv complete mystery many. brilliant stuff.ner go away dyke.\n",
      "Populated NaN at index 1469 with value 1 vs. 0 for text: @user ok cant fucking understand ur saying dont speak ching chong\n",
      "Populated NaN at index 1266 with value 0 vs. 0 for text: @user decided race indians carry caucasoid australoid mongoloid races intermedi @url\n",
      "Populated NaN at index 9164 with value 0 vs. 0 for text: I want to punch his face so fucking much disrespectful ching chong\n",
      "Populated NaN at index 2557 with value 1 vs. 0 for text: report cunt well read account last night gross @url\n",
      "Populated NaN at index 7774 with value 0 vs. 0 for text: For a buncha so called shithole countries we sure have been sending over some shitty fuckin people... Last week it\\u2026 @URL\n",
      "Populated NaN at index 9157 with value 0 vs. 0 for text: Only a lefty twat would @URL\n",
      "Populated NaN at index 10459 with value 0 vs. 1 for text: Feed the twat to the lions. @URL\n",
      "Populated NaN at index 8450 with value 0 vs. 0 for text: @user I can't read no ching chong language!\n",
      "Populated NaN at index 11596 with value 1 vs. 0 for text: A nigger that votes our way.\n",
      "Populated NaN at index 2932 with value 1 vs. 1 for text: @user feminazi review check !\n",
      "Populated NaN at index 3611 with value 1 vs. 0 for text: i'm korean smurf ching chong sing wang su long @url\n",
      "Populated NaN at index 2858 with value 0 vs. 1 for text: antifa faggot pretending @user supporter make conservatives look bad that's @url\n",
      "Populated NaN at index 1423 with value 0 vs. 0 for text: cleaned + airedthe apartment spic + span almost done withunpacking still laundry...\n",
      "Populated NaN at index 4961 with value 0 vs. 0 for text: keemstar fucking cunt\n",
      "Populated NaN at index 1412 with value 0 vs. 0 for text: @user go back country! oh wait already there. country now!\n",
      "Populated NaN at index 7970 with value 0 vs. 0 for text: @user @user you\\u2019re a retard\n",
      "Populated NaN at index 2628 with value 1 vs. 0 for text: remember go weymouth anymore. everyone's cunt !\n",
      "Populated NaN at index 4469 with value 0 vs. 0 for text: go back shitholes &amp; fix them. come country make shithole! we're trying fix @url\n",
      "Populated NaN at index 5517 with value 1 vs. 0 for text: encountered words ching chong &amp; massieren presumably coz bunch asians.. non asia @url\n",
      "Populated NaN at index 6813 with value 0 vs. 1 for text: @user A twat is gonna twat! \\ud83e\\udd23\n",
      "Populated NaN at index 6059 with value 0 vs. 0 for text: @user sez retard beehive size apartment\n",
      "Populated NaN at index 9306 with value 0 vs. 0 for text: @user Wait. lost control am in dyke w/ her @URL\n",
      "Populated NaN at index 2711 with value 0 vs. 1 for text: @user cunt\n",
      "Populated NaN at index 166 with value 1 vs. 0 for text: The Jew Faggot Behind The Financial Collapse.\n",
      "Populated NaN at index 4963 with value 0 vs. 0 for text: @user would winn1 shiny head man 1 mongol horse archer\n",
      "Populated NaN at index 1128 with value 0 vs. 0 for text: @user @user @user @user ummmm.... buddy? must retarded.\n",
      "Populated NaN at index 2145 with value 1 vs. 0 for text: guess support mongoloid then. could avoided @url\n",
      "Populated NaN at index 3401 with value 0 vs. 0 for text: @user evil cunt.npeople like society.\n",
      "Populated NaN at index 642 with value 0 vs. 0 for text: #dodamage slogan unbelievably stupid. every offense's goal damage. gives mongoloid boston f @url\n",
      "Populated NaN at index 4164 with value 0 vs. 1 for text: @user devious dangerous narcissistic autocratic slimy little twat.\n",
      "Populated NaN at index 5822 with value 1 vs. 0 for text: feel much secondhand embarrassment white person calls papi mijo... say spic like want move\n",
      "Populated NaN at index 8754 with value 0 vs. 0 for text: @user You're blind and retarded you loser\n",
      "Populated NaN at index 10947 with value 0 vs. 1 for text: @user What a twat. @user can you help my friend who ended up in hospital last night?\n",
      "Populated NaN at index 8506 with value 0 vs. 0 for text: @user Fucking retard lmao\n",
      "Populated NaN at index 4136 with value 1 vs. 0 for text: @user they're gonna tell shut spic\n",
      "Populated NaN at index 5835 with value 1 vs. 1 for text: andy keogh needs kick cunt aye #mvcvper\n",
      "Populated NaN at index 1996 with value 0 vs. 0 for text: nigger stage?!\n",
      "Populated NaN at index 4236 with value 0 vs. 0 for text: retarded fellow beyond tolerance . @url\n",
      "Populated NaN at index 3369 with value 1 vs. 0 for text: @user @user glad help! nntrisomy 21 cause mongoloid idiocy\n",
      "Populated NaN at index 10411 with value 0 vs. 0 for text: @user So unfair. I need to step up my retard game.\n",
      "Populated NaN at index 2530 with value 0 vs. 0 for text: cant believe people retarded.\n",
      "Populated NaN at index 7381 with value 0 vs. 0 for text: @user\n",
      "Populated NaN at index 2524 with value 1 vs. 0 for text: @user noted douchebag spic questionable immigration status manny fawkin' machado stealin' sig @url\n",
      "Populated NaN at index 3738 with value 0 vs. 0 for text: faggot got crucified\n",
      "Populated NaN at index 7828 with value 0 vs. 0 for text: Fucking retard. \\n\\nOrban Lukashenko and Putin proved you can have nationalism without bullets.\\n\\nYou're insane. @URL\n",
      "Populated NaN at index 1855 with value 0 vs. 0 for text: timer starts faggot \n",
      "Populated NaN at index 9933 with value 0 vs. 0 for text: fuck off nigger\n",
      "Populated NaN at index 11384 with value 0 vs. 0 for text: This dude Wayne said “keep in mind I’m a negro so my open mind got a screen door” @URL\n",
      "Populated NaN at index 5788 with value 0 vs. 0 for text: @user @user @user lose mongoloid playstyles smh gonna trash m2 today\n",
      "Populated NaN at index 8236 with value 0 vs. 0 for text: @user @user @user This is quite possibly the most retarded response I've ever seen\n",
      "Populated NaN at index 2877 with value 0 vs. 0 for text: car starting like faggot called father help luckily knew exactly wrong u @url\n",
      "Populated NaN at index 6898 with value 0 vs. 0 for text: Goddess wants Goddess gets good pig faggot @user AND YOU WENT for my biggest. good job faggot! 50000L\\u2026 @URL\n",
      "Populated NaN at index 8406 with value 0 vs. 0 for text: @user Tell them he called me a spic\n",
      "Populated NaN at index 11498 with value 0 vs. 1 for text: 8 months and the DVLA have finally reissued my license after that Atos twat reported me.\\n\\nVindication \\u270a\n",
      "Populated NaN at index 10636 with value 1 vs. 0 for text: @user @user @user first off learn to type fucking mongoloid. second off u think when an artis\\u2026 @URL\n",
      "Populated NaN at index 1938 with value 0 vs. 0 for text: @user might ask wife play clip tonight. might mongy sports stars call giving 110%\n",
      "Populated NaN at index 8706 with value 0 vs. 0 for text: There is no more sober truth to your ideology than to see some retard defend it.\n",
      "Populated NaN at index 9023 with value 0 vs. 0 for text: @user They don\\u2019t bother me if we\\u2019re close and stuff but people constantly make ching chong jokes and I just hj\\u2026 @URL\n",
      "Populated NaN at index 10469 with value 1 vs. 0 for text: Bigot is Old English (&amp;German) that means by God. By God Im a bigot.I aint afraid of filthy faggot queers.I love my\\u2026 @URL\n",
      "Populated NaN at index 4158 with value 0 vs. 0 for text: god faggot?\n",
      "Populated NaN at index 7957 with value 1 vs. 0 for text: Chuey makes me laugh till my stomach hurts I love that nigger lmao\n",
      "Populated NaN at index 4894 with value 0 vs. 0 for text: also youre trying blatantly racist least original like im sick hearing ling ling ching chong @url\n",
      "Populated NaN at index 5664 with value 0 vs. 0 for text: bejarano faggot\n",
      "Populated NaN at index 10993 with value 0 vs. 0 for text: @user Western Civilization is so friendly we just accept it. If the west tried to go to these shithole countries we would be genocided\n",
      "Populated NaN at index 9292 with value 0 vs. 0 for text: Didn't think it possible but @user even more shameful than @user and war mongol @user @URL\n",
      "Populated NaN at index 8089 with value 0 vs. 0 for text: @user @user Get out of our country raghead\n",
      "Populated NaN at index 6187 with value 0 vs. 0 for text: @user @user Shut up retard \\ud83d\\ude02\n",
      "Populated NaN at index 6670 with value 0 vs. 0 for text: Who tf voted crunch over skittles?? It\\u2019s spook season not mongoloid season @URL\n",
      "Populated NaN at index 5739 with value 0 vs. 0 for text: @user ight nigger\n",
      "Populated NaN at index 8408 with value 0 vs. 0 for text: @user you are a satanic sellout faggot .\n",
      "Populated NaN at index 9592 with value 1 vs. 0 for text: @user \\u201cYoah tellin me i blind one fackin chinaman and it\\u2019s a federal case but these dodgahs gawt a whole fackin\\u2026 @URL\n",
      "Populated NaN at index 5128 with value 1 vs. 0 for text: donald trump bizarrely popular among hut-dwellers shithole countries nambia reports @user @url\n",
      "Populated NaN at index 4018 with value 0 vs. 0 for text: ching chong ling long!\n",
      "Populated NaN at index 9825 with value 0 vs. 0 for text: @user @user is that as illegal aliens they have no rights except to return home\n",
      "Populated NaN at index 5355 with value 0 vs. 0 for text: retarded centrism makes you. can't imagine able differentiate something like dis @url\n",
      "Populated NaN at index 7964 with value 1 vs. 0 for text: this so cute i hate my stupid ass dyke life @URL\n",
      "Populated NaN at index 10276 with value 1 vs. 1 for text: @user One horrible fucking twat that thing.\n",
      "Populated NaN at index 7531 with value 0 vs. 0 for text: @user @user Turning away refugees is kind? Ignoring the sick kind? Using campaign funds to pay your… @URL\n",
      "Populated NaN at index 5007 with value 0 vs. 0 for text: dont mess w/ coz im retarded &amp; gay\n",
      "Populated NaN at index 3503 with value 0 vs. 0 for text: ed party alex jones retard. adl already started fundraising. jdl come back w @url\n",
      "Populated NaN at index 2912 with value 0 vs. 1 for text: disrespectful twat start celebrating christmas remembrance day over. \n",
      "Populated NaN at index 3568 with value 1 vs. 0 for text: fucking hope chinks get raped fucking faggot exist 1-2 years _ chink' @url\n",
      "Populated NaN at index 11053 with value 1 vs. 0 for text: Easy solution: send all illegal aliens to Mazie Hirono's house. @URL\n",
      "Populated NaN at index 7043 with value 0 vs. 0 for text: @user I don\\u2019t get offended by much. I\\u2019m Hispanic been called a spic called Mexican even tho I\\u2019m Cuban.\\u2026 @URL\n",
      "Populated NaN at index 9729 with value 1 vs. 1 for text: @user @user @user @user @user @user Oh he\\u2019s sick in the head and a cunt but\\u2026 @URL\n",
      "Populated NaN at index 10531 with value 1 vs. 0 for text: When rappers say faggot&gt;&gt;\n",
      "Populated NaN at index 1277 with value 0 vs. 0 for text: two types chinaman bowlers. one kuldeep rest others. kuldeep miles ahead others\n",
      "Populated NaN at index 1203 with value 1 vs. 0 for text: nicki's powerful! call c*rdi tell retarded is!  @url\n",
      "Populated NaN at index 6566 with value 0 vs. 0 for text: Harlem shake is just an excuse to go full retard for 30 seconds.\n",
      "Populated NaN at index 4708 with value 0 vs. 0 for text: dave roberts fucking retarded\n",
      "Populated NaN at index 5104 with value 0 vs. 0 for text: representative tax cut man tremendous courage grit may someday recognized shithole countries\n",
      "Populated NaN at index 5149 with value 0 vs. 0 for text: @user @user recommend 1. stop getting involved #shithole countries wars 2. bring back us troops fr @url\n",
      "Populated NaN at index 590 with value 0 vs. 0 for text: keep mind im negro open mind got screen door best bar whole fuckin album lol\n",
      "Populated NaN at index 1544 with value 0 vs. 0 for text: @user stunning.nthis guy actually retarded.\n",
      "Populated NaN at index 9250 with value 0 vs. 0 for text: As per d Kerala Govt Devotees of Sabarimala r seems 2b terrorist n naxalites maoist n leftist are peace loving cit\\u2026 @URL\n",
      "Populated NaN at index 7954 with value 0 vs. 0 for text: people who say the grinch leak is fake because incineroar ain't in it are literally retarded\n",
      "Populated NaN at index 11285 with value 0 vs. 0 for text: \\ you called my son retarded do not call my son that...\\ @URL\n",
      "Populated NaN at index 5487 with value 0 vs. 0 for text: right royal retarded right everything me.\n",
      "Populated NaN at index 6634 with value 0 vs. 0 for text: lanie posted im single im a dyke god is good get ready for my shitposts hey lanie i hope u still have my notifs on ily\n"
     ]
    }
   ],
   "source": [
    "# model options: \"gpt-4o-mini\", \"gpt-4-0125-preview\", \"gpt-3.5-turbo-0125\"\n",
    "for i in range(100):\n",
    "    populate_row(\"gpt-4o-mini\")"
   ]
  },
  {
   "cell_type": "code",
   "execution_count": 7,
   "metadata": {},
   "outputs": [
    {
     "name": "stdout",
     "output_type": "stream",
     "text": [
      "Populated NaN at index 1394 with value 1 \n",
      " for text: @user @user @user @user statesboro shithole twice big boo @url\n"
     ]
    }
   ],
   "source": [
    "for i in range(1):\n",
    "    populate_row(\"gemini-1.5-flash\")"
   ]
  },
  {
   "cell_type": "code",
   "execution_count": null,
   "metadata": {},
   "outputs": [],
   "source": [
    "#TEMP\n",
    "def fill_MASTER():\n",
    "    df = pd.read_csv(\"./data/result/MASTER.csv\")\n",
    "    \n",
    "    system_prompt = \"You are an assistant trained to identify if text contains sexism. Answer ONLY with '1' for Yes or '0' for No.\"\n",
    "    \n",
    "    #df.loc[:9, 'gpt-4o'] = df.loc[:9, 'text'].apply(lambda x: send_requestGPT(\"gpt-4o\", x))\n",
    "    \n",
    "    df.loc[5:10, 'gpt-4o-mini'] = df.loc[5:10, 'text'].apply(lambda x: send_requestGPT(\"gpt-4o-mini\", system_prompt, x))\n",
    "    #df.loc[:5, 'gpt-4-0125-preview'] = df.loc[:5, 'text'].apply(lambda x: send_requestGPT(\"gpt-4-0125-preview\", system_prompt, x))\n",
    "    #df.loc[:5, 'gpt-3.5-turbo-0125'] = df.loc[:5, 'text'].apply(lambda x: send_requestGPT(\"gpt-3.5-turbo-0125\", system_prompt, x))\n",
    "    \n",
    "    #df.loc[:5, 'gemini-1.5-flash'] = df.loc[:5, 'text'].apply(lambda x: send_requestGemini(\"gemini-1.5-flash\", system_prompt, x))\n",
    "    \n",
    "    \n",
    "        \n",
    "    df.to_csv(\"./data/result/MASTER.csv\", index=False)\n",
    "    \n",
    "#fill_MASTER()"
   ]
  }
 ],
 "metadata": {
  "kernelspec": {
   "display_name": "Python 3",
   "language": "python",
   "name": "python3"
  },
  "language_info": {
   "codemirror_mode": {
    "name": "ipython",
    "version": 3
   },
   "file_extension": ".py",
   "mimetype": "text/x-python",
   "name": "python",
   "nbconvert_exporter": "python",
   "pygments_lexer": "ipython3",
   "version": "3.10.1"
  }
 },
 "nbformat": 4,
 "nbformat_minor": 2
}
