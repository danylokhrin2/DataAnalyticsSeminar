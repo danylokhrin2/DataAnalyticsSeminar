{
 "cells": [
  {
   "cell_type": "code",
   "execution_count": 1,
   "metadata": {},
   "outputs": [
    {
     "name": "stderr",
     "output_type": "stream",
     "text": [
      "c:\\Users\\Danylo\\AppData\\Local\\Programs\\Python\\Python310\\lib\\site-packages\\tqdm\\auto.py:21: TqdmWarning: IProgress not found. Please update jupyter and ipywidgets. See https://ipywidgets.readthedocs.io/en/stable/user_install.html\n",
      "  from .autonotebook import tqdm as notebook_tqdm\n"
     ]
    }
   ],
   "source": [
    "\n",
    "import pandas as pd\n",
    "import random\n",
    "import time\n",
    "\n",
    "from LLM.gpt import send_requestGPT\n",
    "from LLM.gemini import send_requestGemini"
   ]
  },
  {
   "cell_type": "markdown",
   "metadata": {},
   "source": [
    "Check how many unique texts there are in the dataset"
   ]
  },
  {
   "cell_type": "code",
   "execution_count": 3,
   "metadata": {},
   "outputs": [],
   "source": [
    "def unique_values_MASTER():\n",
    "    df = pd.read_csv(\"./data/preprocessed/MASTER.csv\")\n",
    "    unique_text_count = df['text'].nunique()\n",
    "    print(f\"Number of unique values in 'text' column: {unique_text_count}\")"
   ]
  },
  {
   "cell_type": "code",
   "execution_count": 2,
   "metadata": {},
   "outputs": [],
   "source": [
    "def populate_row(model):\n",
    "    \n",
    "    df = pd.read_csv(\"./data/result/MASTER.csv\")\n",
    "    system_prompt = \"You are an assistant trained to identify if text contains sexism. Answer ONLY with '1' for Yes or '0' for No. ONLY CHECK FOR SEXISM AND NOT OTHER FORMS OF HATE SPEECH.\"\n",
    "    \n",
    "    nan_rows = df[df[model].isna()]\n",
    "\n",
    "    if not nan_rows.empty:\n",
    "        random_index = random.choice(nan_rows.index)\n",
    "        text_value = df.at[random_index, 'text']\n",
    "        sexism = df.at[random_index, 'SEXISM']\n",
    "        if \"gemini\" in model:\n",
    "            value = send_requestGemini(model, system_prompt, text_value)\n",
    "        else:\n",
    "            value = send_requestGPT(model, system_prompt, text_value)\n",
    "        df.at[random_index, model] = value\n",
    "        print(f\"Populated NaN at index {random_index} with value {value} vs. {sexism} for text: {text_value}\") \n",
    "    else:\n",
    "        print(f\"No NaN values found in {model} column.\")\n",
    "\n",
    "    df.to_csv(\"./data/result/MASTER.csv\", index=False)\n"
   ]
  },
  {
   "cell_type": "code",
   "execution_count": 7,
   "metadata": {},
   "outputs": [
    {
     "name": "stdout",
     "output_type": "stream",
     "text": [
      "Populated NaN at index 5637 with value 0 vs. 0 for text: @user @user yes demonstrates point mentioning turkey sandwiches made retard tha @url\n",
      "Populated NaN at index 4953 with value 0 vs. 0 for text: palestinian terrorist leftist mean liberal terrorist? @url\n",
      "Populated NaN at index 6681 with value 1 vs. 1 for text: women who support sexual predators in power are the cunt-mascots of our oppression.\n",
      "Populated NaN at index 6266 with value 0 vs. 0 for text: @user @user Awe it's retarded....\n",
      "Populated NaN at index 11696 with value 0 vs. 0 for text: I\\u2019m gonna have a talk with him but it probably won\\u2019t work because he\\u2019s retarded. He\\u2019s gonna say why you keep telling me that Stooopid. LOL\n",
      "Populated NaN at index 3251 with value 0 vs. 0 for text: people. go stop illegal aliens votes\n",
      "Populated NaN at index 6548 with value 1 vs. 0 for text: she suck my dick till i look dumb retarded\n",
      "Populated NaN at index 2777 with value 0 vs. 0 for text: kemar roofe ugly fucking cunt never heard much shit game twat #nffc\n",
      "Populated NaN at index 4127 with value 0 vs. 0 for text: @user blaming victims saying armed--imagine shithole country @url\n",
      "Populated NaN at index 6964 with value 0 vs. 0 for text: @user It\\u2019s a song retard\n",
      "Populated NaN at index 7952 with value 0 vs. 0 for text: @user It's just another mongy twitter account Shaun just report it for its racist remarks as I have jus\\u2026 @URL\n",
      "Populated NaN at index 9146 with value 0 vs. 0 for text: @user I think you are either a retard or confused. Obama was the one who put the kids in cages. Bill Clinto\\u2026 @URL\n",
      "Populated NaN at index 4662 with value 0 vs. 0 for text: hes actually lowkey always nigger @url\n",
      "Populated NaN at index 662 with value 0 vs. 0 for text: literally waited red light five minutes i'm fucking retard\n",
      "Populated NaN at index 6987 with value 0 vs. 0 for text: @user Australia is full of European post war refugees. By this logic and perhaps yours they should all… @URL\n",
      "Populated NaN at index 8094 with value 0 vs. 0 for text: @user it\\u2019s to mongoloid\n",
      "Populated NaN at index 1736 with value 0 vs. 0 for text: lefty twat would @url\n",
      "Populated NaN at index 10735 with value 0 vs. 0 for text: @user @user Wdym he\\u2019s piping up like he\\u2019s ever done anything now see you and your mongy mate\n",
      "Populated NaN at index 5061 with value 0 vs. 0 for text: @user even shadilay active lol faggot\n",
      "Populated NaN at index 3248 with value 1 vs. 0 for text: fuck turn weird cunt tell daughter go make friends mongy bitch @url\n",
      "Populated NaN at index 8919 with value 1 vs. 0 for text: @user its ok hobi is a spic\n",
      "Populated NaN at index 11457 with value 0 vs. 0 for text: @user you called me a braindead retard cause I did a card with vguardians so I thought you were a retard\\ud83d\\ude02\n",
      "Populated NaN at index 653 with value 1 vs. 0 for text: @user @user shithole countries ring bell? good genes? birtherism fine people sides\n",
      "Populated NaN at index 6086 with value 1 vs. 0 for text: Pretty sure if an employee of Philip Green called him a 'balding racist sexist twat' it would be perceived as dismi\\u2026 @URL\n",
      "Populated NaN at index 8185 with value 0 vs. 0 for text: Because you're a little twat.\n",
      "Populated NaN at index 9657 with value 0 vs. 1 for text: 0 stupid little retard @URL\n",
      "Populated NaN at index 2430 with value 0 vs. 0 for text: laughing clapping like retard seal. thats\n",
      "Populated NaN at index 10982 with value 1 vs. 0 for text: Is it me or does anyone else make them wah ching ching chung choo ching chong noises when you try to copy a few kung fu moves?\n",
      "Populated NaN at index 2846 with value 1 vs. 1 for text: dude straight cunt. @url\n",
      "Populated NaN at index 9198 with value 0 vs. 0 for text: @user What\\u2019s a epically flat note I must be retarded or something\n",
      "Populated NaN at index 8871 with value 0 vs. 1 for text: What an utter cunt !! @URL\n",
      "Populated NaN at index 10300 with value 0 vs. 0 for text: @user what's a spic\\u2014\n",
      "Populated NaN at index 277 with value 0 vs. 0 for text: A solution to the U.S. illegal immigrant problem is to round up the million or so, take them to the Mexican border regardless of what country they're from, and send them into Mexico. Maybe then when the Mexican border is over-run with immigrants will Mexico understand and help pay for a wall.\n",
      "Populated NaN at index 6269 with value 0 vs. 0 for text: a pitchblende is a radius: mongoloid and superindividual\n",
      "Populated NaN at index 11591 with value 0 vs. 0 for text: might\\u2019ve just convinced mum to upgrade to nbn fucking finally cunt\n",
      "Populated NaN at index 8018 with value 1 vs. 0 for text: lexi u must me on drugs because ur behaving like a faggot @URL\n",
      "Populated NaN at index 9739 with value 0 vs. 0 for text: @user @user But the ones higher than us are all the shithole countries. The UKs France and Germany\\u2019s of\\u2026 @URL\n",
      "Populated NaN at index 8961 with value 0 vs. 0 for text: all #kpop is auto-tune ching chong\n",
      "Populated NaN at index 7034 with value 1 vs. 1 for text: @user @user I’m venturing a guess that the lefty feminazi man haters....cant get men. Hence the unhinged… @URL\n",
      "Populated NaN at index 6290 with value 0 vs. 0 for text: @user The director must be a retard\n",
      "Populated NaN at index 2783 with value 0 vs. 1 for text: see ian brown handed arse plate @user . nnas ya plastic manc twat.\n",
      "Populated NaN at index 2258 with value 0 vs. 0 for text: think mourinho'a bit cunt hats meeting boys. thai cave boys meet manches @url\n",
      "Populated NaN at index 10231 with value 0 vs. 1 for text: Your father had a dinosaur. Your mother gave up hers to raise you you ungrateful faggot.\n",
      "Populated NaN at index 10741 with value 0 vs. 1 for text: Time and time again #Dumpf shows himself as an ignorant twat yet still people support him. I seriously do not unde\\u2026 @URL\n",
      "Populated NaN at index 6589 with value 1 vs. 0 for text: @user @user I've binned tinder off. Fed up of mongy women matching then loosing their voices... \\ud83d\\ude44\n",
      "Populated NaN at index 4017 with value 0 vs. 0 for text: @user gotcha. always fan seeing faggot-word wild.\n",
      "Populated NaN at index 7629 with value 0 vs. 0 for text: he actually whispering Bing bong ching chong; nukes may be wrong @URL\n",
      "Populated NaN at index 3952 with value 1 vs. 0 for text: today @user birthday cunts happy bday cute faggot\n",
      "Populated NaN at index 10693 with value 0 vs. 0 for text: @user Seriously go back to your country with that shit dead ass\n",
      "Populated NaN at index 11090 with value 0 vs. 0 for text: her left incisor can't be a faggot #kek\n",
      "Populated NaN at index 6066 with value 0 vs. 0 for text: .@user america favor stop giving hateful leftist reporters privilege asking @url\n",
      "Populated NaN at index 7092 with value 0 vs. 1 for text: Also joo - saying (it's okay to be white) promotes --&gt;WHITE&lt;-- supremacy.\n",
      "Populated NaN at index 4362 with value 1 vs. 0 for text: negro got nerve\n",
      "Populated NaN at index 3299 with value 0 vs. 0 for text: wish faggot would say anyone fam. gonna putting money books next yea @url\n",
      "Populated NaN at index 8902 with value 0 vs. 0 for text: faggot people? self hatred much king? @URL\n",
      "Populated NaN at index 76 with value 1 vs. 1 for text: lock women up at home . Female are just to stupid to understand anything .  Iam Agnostic .\n",
      "Populated NaN at index 6540 with value 0 vs. 0 for text: Note to #Hollywood : \\Fuck Trump\\/\\Drumpf\\ just makes you look retarded. So does making career decisions based on p\\u2026 @URL\n",
      "Populated NaN at index 5455 with value 0 vs. 0 for text: @user fuck sake. tony seems like right cunt.nguess cunts twitter every team.nthat's f @url\n",
      "Populated NaN at index 8294 with value 0 vs. 0 for text: @user @user Not true. They care about illegal aliens and muslims. Anyone but Americans.\n",
      "Populated NaN at index 5570 with value 1 vs. 0 for text: @user maybe kp*ppies right field nigger\n",
      "Populated NaN at index 855 with value 1 vs. 0 for text: thete nrrd call corina cunt! need!!\n",
      "Populated NaN at index 9060 with value 0 vs. 0 for text: I added a video to a @user playlist @URL Gohan calls buu a retard (Japanese)\n",
      "Populated NaN at index 9050 with value 0 vs. 0 for text: @user @user You\\u2019d have to be retarded to tell 12 year olds how to do it on video then\n",
      "Populated NaN at index 9504 with value 0 vs. 0 for text: somebody braid my hair im too retarded for this\n",
      "Populated NaN at index 9073 with value 1 vs. 0 for text: Dirty stupid nigger typical @URL\n",
      "Populated NaN at index 11244 with value 1 vs. 0 for text: @user @user Shut yo lame ass up dyke\n",
      "Populated NaN at index 5987 with value 0 vs. 0 for text: count californians pretty retarded. @url\n",
      "Populated NaN at index 11486 with value 0 vs. 0 for text: @user @user @user So they're only really bypassing one country then Indonesia which is a shithole\\u2026 @URL\n",
      "Populated NaN at index 10099 with value 0 vs. 0 for text: @user He ain\\u2019t fat he just retarded... xD\n",
      "Populated NaN at index 390 with value 0 vs. 0 for text: Most Americans are nazis or kkk members so they elected  Trump.\n",
      "Populated NaN at index 6648 with value 0 vs. 0 for text: @user That\\u2019d be a good one if we went to same school mongy\\ud83d\\ude02\\ud83d\\ude02\\ud83d\\ude02\n",
      "Populated NaN at index 6937 with value 0 vs. 0 for text: @user You are a nigger and you don't talk to me.\n",
      "Populated NaN at index 10602 with value 1 vs. 1 for text: @user Yeah just a cunt. Going too far for bites. Just not needed\n",
      "Populated NaN at index 9127 with value 0 vs. 0 for text: Don\\u2019t be like the @user passengers I had tonight that kept saying faggot/fag/queers over and over even after I aske\\u2026 @URL\n",
      "Populated NaN at index 780 with value 1 vs. 0 for text: old lesbians called baby dyke am: offended. i'm 24\n",
      "Populated NaN at index 2221 with value 0 vs. 0 for text: retard spooky willy\n",
      "Populated NaN at index 7102 with value 0 vs. 0 for text: @user Shausha mongol\n",
      "Populated NaN at index 8765 with value 0 vs. 0 for text: She must snarl about the unfolding interiority of the mentally retarded not as much\n",
      "Populated NaN at index 8932 with value 1 vs. 0 for text: videos grandpas fat gay fucking gay grandpas negro gay masturbation peperonity gay fetish pics\n",
      "Populated NaN at index 3462 with value 0 vs. 1 for text: @user bunch twat's. @url\n",
      "Populated NaN at index 2084 with value 1 vs. 0 for text: landon romano gayshawnmendes battle title worst faggot\n",
      "Populated NaN at index 6646 with value 0 vs. 0 for text: @user True. Christians may be our retarded cousins but still in the family nevertheless.\n",
      "Populated NaN at index 2366 with value 0 vs. 0 for text: @user @user @user fucking retard npc. 97/3? poll showed odds calculation @url\n",
      "Populated NaN at index 7107 with value 0 vs. 0 for text: Trio accused of conspiring to get illegal aliens MI driver's licenses @URL via @user\n",
      "Populated NaN at index 1005 with value 0 vs. 0 for text: @user hurry faggot wanna see\n",
      "Populated NaN at index 3263 with value 0 vs. 0 for text: @user twat white house\n",
      "Populated NaN at index 8807 with value 0 vs. 0 for text: If you are this kind of \\faggot\\ don't even think about speaking to me scumbags.\\n\\n#cashmaster #cashfag #paypig\\u2026 @URL\n",
      "Populated NaN at index 840 with value 0 vs. 0 for text: called donald rumsfeild raghead internet long time ago.\n",
      "Populated NaN at index 2739 with value 0 vs. 0 for text: @user who's retarded ass kick\n",
      "Populated NaN at index 11216 with value 0 vs. 0 for text: Holy shit what a faggot lmao @URL\n",
      "Populated NaN at index 6759 with value 0 vs. 0 for text: @user Gebby I miss you too\\ud83d\\ude2d mongol japon ka?\\ud83d\\ude02\n",
      "Populated NaN at index 5188 with value 0 vs. 0 for text: @user good job tho honestly. retarded friends terrible play with.\n",
      "Populated NaN at index 5775 with value 0 vs. 0 for text: twat vagina gary! yt people wyld\n",
      "Populated NaN at index 4917 with value 0 vs. 0 for text: @user @user @user @user absolutely! like guns like libs like immigrants... undocumented!!\n",
      "Populated NaN at index 3255 with value 1 vs. 0 for text: ching chong ching chong speak english go back country\n",
      "Populated NaN at index 11516 with value 1 vs. 0 for text: @user If hader wasn’t a nigger hating cunt we would blow right by them this game\n",
      "Populated NaN at index 523 with value 0 vs. 0 for text: @user unaccounted illegal aliens happy. tufail one\n",
      "Populated NaN at index 5251 with value 0 vs. 0 for text: @user nahhh im retard xd\n",
      "Populated NaN at index 11618 with value 1 vs. 0 for text: you mexican lookin' ass mongoloid #ass #bot\n",
      "Populated NaN at index 6970 with value 0 vs. 0 for text: Also. I'm being a judgemental cunt again but watching overgrown indie boys from the naughties getting emotionally o\\u2026 @URL\n"
     ]
    }
   ],
   "source": [
    "# model options: \"gpt-4o-mini\", \"gpt-4-0125-preview\", \"gpt-3.5-turbo-0125\"\n",
    "for i in range(100):\n",
    "    populate_row(\"gpt-4o-mini\")"
   ]
  },
  {
   "cell_type": "code",
   "execution_count": 3,
   "metadata": {},
   "outputs": [
    {
     "name": "stdout",
     "output_type": "stream",
     "text": [
      "Populated NaN at index 7363 with value 1 vs. 0 for text: Hello Justin Bieber-I say ching chong nippon sometimes\n",
      "Populated NaN at index 10561 with value 0 vs. 0 for text: @user @user @user @user @user You called me a raghead first. If you\\u2026 @URL\n",
      "Populated NaN at index 4823 with value 0 vs. 0 for text: @user uk shithole. canada actually real nice country. uk bout fuck super hard brexit @url\n",
      "Populated NaN at index 8595 with value 1 vs. 0 for text: San Francisco cities that allow illegal aliens to vote admonished by House @URL via @user\n",
      "Populated NaN at index 10157 with value 1 vs. 0 for text: Them whites probably look at the situation like “Dance nigger dance” @URL\n",
      "Populated NaN at index 6662 with value 1 vs. 0 for text: Drunk texters retarded lol\n"
     ]
    },
    {
     "ename": "KeyboardInterrupt",
     "evalue": "",
     "output_type": "error",
     "traceback": [
      "\u001b[1;31m---------------------------------------------------------------------------\u001b[0m",
      "\u001b[1;31mKeyboardInterrupt\u001b[0m                         Traceback (most recent call last)",
      "\u001b[1;32m~\\AppData\\Local\\Temp/ipykernel_12252/103310723.py\u001b[0m in \u001b[0;36m<module>\u001b[1;34m\u001b[0m\n\u001b[0;32m      5\u001b[0m     \u001b[1;32mexcept\u001b[0m\u001b[1;33m:\u001b[0m\u001b[1;33m\u001b[0m\u001b[1;33m\u001b[0m\u001b[0m\n\u001b[0;32m      6\u001b[0m         \u001b[0mprint\u001b[0m\u001b[1;33m(\u001b[0m\u001b[1;34m\"Error occured\"\u001b[0m\u001b[1;33m)\u001b[0m\u001b[1;33m\u001b[0m\u001b[1;33m\u001b[0m\u001b[0m\n\u001b[1;32m----> 7\u001b[1;33m     \u001b[0mtime\u001b[0m\u001b[1;33m.\u001b[0m\u001b[0msleep\u001b[0m\u001b[1;33m(\u001b[0m\u001b[1;36m5\u001b[0m\u001b[1;33m)\u001b[0m \u001b[1;31m# to avoid rate limiting\u001b[0m\u001b[1;33m\u001b[0m\u001b[1;33m\u001b[0m\u001b[0m\n\u001b[0m",
      "\u001b[1;31mKeyboardInterrupt\u001b[0m: "
     ]
    }
   ],
   "source": [
    "# GEMINI\n",
    "for i in range(100):\n",
    "    try:\n",
    "        populate_row(\"gemini-1.5-flash\")\n",
    "    except:\n",
    "        print(\"Error occured\")\n",
    "    time.sleep(5) # to avoid rate limiting"
   ]
  }
 ],
 "metadata": {
  "kernelspec": {
   "display_name": "Python 3",
   "language": "python",
   "name": "python3"
  },
  "language_info": {
   "codemirror_mode": {
    "name": "ipython",
    "version": 3
   },
   "file_extension": ".py",
   "mimetype": "text/x-python",
   "name": "python",
   "nbconvert_exporter": "python",
   "pygments_lexer": "ipython3",
   "version": "3.10.1"
  }
 },
 "nbformat": 4,
 "nbformat_minor": 2
}
