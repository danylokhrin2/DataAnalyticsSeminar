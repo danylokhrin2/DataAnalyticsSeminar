{
 "cells": [
  {
   "cell_type": "code",
   "execution_count": null,
   "metadata": {},
   "outputs": [],
   "source": [
    "\n",
    "import pandas as pd\n",
    "import random\n",
    "import time\n",
    "\n",
    "from LLM.gpt import send_requestGPT\n",
    "from LLM.gemini import send_requestGemini\n",
    "from LLM.llama import send_requestLlama"
   ]
  },
  {
   "cell_type": "markdown",
   "metadata": {},
   "source": [
    "Check how many unique texts there are in the dataset"
   ]
  },
  {
   "cell_type": "code",
   "execution_count": null,
   "metadata": {},
   "outputs": [],
   "source": [
    "def unique_values_MASTER():\n",
    "    df = pd.read_csv(\"./data/preprocessed/MASTER.csv\")\n",
    "    unique_text_count = df['text'].nunique()\n",
    "    print(f\"Number of unique values in 'text' column: {unique_text_count}\")"
   ]
  },
  {
   "cell_type": "code",
   "execution_count": 9,
   "metadata": {},
   "outputs": [
    {
     "name": "stdout",
     "output_type": "stream",
     "text": [
      "Remaining Texts 'gpt-4o-mini' column: \t\t 0 out of 0\n",
      "Remaining Texts 'gpt-4-0125-preview' column: \t 0 out of 0\n",
      "Remaining Texts 'gpt-3.5-turbo-0125' column: \t 0 out of 0\n",
      "Remaining Texts 'llama3.2-3b' column: \t\t 0 out of 0\n",
      "Remaining Texts 'llama3.1-8b' column: \t\t 0 out of 0\n",
      "Remaining Texts 'llama3-8b' column: \t\t 0 out of 0\n",
      "Remaining Texts 'gemini-1.5-flash' column: \t 0 out of 0\n"
     ]
    }
   ],
   "source": [
    "# Count remaining Nan values in MASTER\n",
    "df = pd.read_csv(\"./data/result/MASTER.csv\")\n",
    "# print for each column ['gpt-4o-mini','gpt-4-0125-preview','gpt-3.5-turbo-0125','llama3.2-3b','llama3.1-8b','llama3-8b','gemini-1.5-flash',]]\n",
    "print(f\"Remaining Texts 'gpt-4o-mini' column: \\t\\t {df['gpt-4o-mini'].isnull().sum()} out of {len(df)}\")\n",
    "print(f\"Remaining Texts 'gpt-4-0125-preview' column: \\t {df['gpt-4-0125-preview'].isnull().sum()} out of {len(df)}\")\n",
    "print(f\"Remaining Texts 'gpt-3.5-turbo-0125' column: \\t {df['gpt-3.5-turbo-0125'].isnull().sum()} out of {len(df)}\")\n",
    "print(f\"Remaining Texts 'llama3.2-3b' column: \\t\\t {df['llama3.2-3b'].isnull().sum()} out of {len(df)}\")\n",
    "print(f\"Remaining Texts 'llama3.1-8b' column: \\t\\t {df['llama3.1-8b'].isnull().sum()} out of {len(df)}\")\n",
    "print(f\"Remaining Texts 'llama3-8b' column: \\t\\t {df['llama3-8b'].isnull().sum()} out of {len(df)}\")\n",
    "print(f\"Remaining Texts 'gemini-1.5-flash' column: \\t {df['gemini-1.5-flash'].isnull().sum()} out of {len(df)}\")\n"
   ]
  },
  {
   "cell_type": "code",
   "execution_count": null,
   "metadata": {},
   "outputs": [],
   "source": [
    "def populate_row(model):\n",
    "    \n",
    "    df = pd.read_csv(\"./data/result/MASTER.csv\")\n",
    "    system_prompt = \"You are an assistant trained to identify if text contains sexism. Answer ONLY with '1' for Yes or '0' for No. ONLY CHECK FOR SEXISM AND NOT OTHER FORMS OF HATE SPEECH.\"\n",
    "    \n",
    "    nan_rows = df[df[model].isna()]\n",
    "\n",
    "    if not nan_rows.empty:\n",
    "        random_index = random.choice(nan_rows.index)\n",
    "        text_value = df.at[random_index, 'text']\n",
    "        sexism = df.at[random_index, 'SEXISM']\n",
    "        if \"gemini\" in model:\n",
    "            value = send_requestGemini(model, system_prompt, text_value)\n",
    "        elif \"llama\" in model:\n",
    "            value = send_requestLlama(model, system_prompt, text_value)            \n",
    "        else:\n",
    "            value = send_requestGPT(model, system_prompt, text_value)\n",
    "        df.at[random_index, model] = value\n",
    "        print(f\"Populated NaN at index {random_index} with value {value} vs. {sexism} for text: {text_value}\") \n",
    "    else:\n",
    "        print(f\"No NaN values found in {model} column.\")\n",
    "\n",
    "    df.to_csv(\"./data/result/MASTER.csv\", index=False)\n"
   ]
  },
  {
   "cell_type": "code",
   "execution_count": null,
   "metadata": {},
   "outputs": [],
   "source": [
    "# model options: \"gpt-4o-mini\", \"gpt-4-0125-preview\", \"gpt-3.5-turbo-0125\"\n",
    "for i in range(1000):\n",
    "    populate_row(\"gpt-4o-mini\")"
   ]
  },
  {
   "cell_type": "code",
   "execution_count": 8,
   "metadata": {},
   "outputs": [
    {
     "name": "stdout",
     "output_type": "stream",
     "text": [
      "Populated NaN at index 395 with value 1 vs. 0 for text: It's so sick and sad that young people will think of the concept of clout like rap niggers invented it because they aren't even properly taught about the english language anymore.\n",
      "Populated NaN at index 9381 with value 0 vs. 0 for text: Good thinking law enforcement the spic UC in the Honda Accord can eat my shit say one word mind games are fun be th\\u2026 @URL\n",
      "Populated NaN at index 4908 with value 0 vs. 0 for text: new immigrants one warned us halloween hadnt quite gone global yet early 80s. reme @url\n",
      "Populated NaN at index 5594 with value 0 vs. 0 for text: @user learn spell mongy\n",
      "Populated NaN at index 7215 with value 0 vs. 0 for text: @user @user @user mongol will always have a spot in any of my teams\n",
      "Populated NaN at index 8942 with value 1 vs. 0 for text: Cuz guess what faggot I made the blue print\n",
      "Populated NaN at index 2822 with value 0 vs. 0 for text: nigger put paint minute maid bottle @url\n",
      "Populated NaN at index 5997 with value 0 vs. 0 for text: shutup nigger @url\n",
      "Populated NaN at index 6695 with value 0 vs. 0 for text: The issue of refugees must be resolved 7 years ago by way of wise policies in countries such as Libya Syria Yemen… @URL\n",
      "Populated NaN at index 9916 with value 0 vs. 0 for text: @user @user @user Northern slavs mixed with Euro-mongoloid finnic peoples\n",
      "Populated NaN at index 1444 with value 0 vs. 0 for text: dirty stupid nigger typical @url\n",
      "Populated NaN at index 5630 with value 0 vs. 0 for text: would automatic car 1911 total fucking mongoloid?! #thechase @url\n",
      "Populated NaN at index 197 with value 1 vs. 0 for text: Save on security and police, deport all immigrants and Sadiq Khan!\n",
      "Populated NaN at index 267 with value 0 vs. 0 for text: Black people are the most racist people I ever met. I√¢¬Ä¬ôm not even white, and I know this. Most blacks are racists!\n",
      "Populated NaN at index 3317 with value 1 vs. 0 for text: yea kirby smart retard running 2nd 18\n",
      "Populated NaN at index 4863 with value 0 vs. 0 for text: @user vile cunt\n",
      "Populated NaN at index 1693 with value 0 vs. 0 for text: @user go make happen!! think one retarded...\n",
      "Populated NaN at index 1756 with value 0 vs. 0 for text: thats point nigger @url\n",
      "Populated NaN at index 7956 with value 0 vs. 0 for text: @user The Lord wants us to make the World s better place. We can\\u2019t do that if our country becomes a shithole.\n",
      "Populated NaN at index 2798 with value 1 vs. 0 for text: can't believe live terrorist country headed shithole list due environmental policies @url\n",
      "Populated NaN at index 1165 with value 0 vs. 0 for text: @user @user god hate feminazi's.\n",
      "Populated NaN at index 5519 with value 0 vs. 0 for text: sad std daily raghead news muslims sand people! fight time bible says so! point! @url\n",
      "Populated NaN at index 7692 with value 0 vs. 0 for text: dis dyke finna get brutalized about\n",
      "Populated NaN at index 2584 with value 0 vs. 0 for text: love is...nnsometimes i'm younsometimes i'm not. nsometimes adorablensometimes twat. nsometi @url\n",
      "Populated NaN at index 10505 with value 0 vs. 0 for text: @user @user @user dont compare us with your mongol nation. u can compare ur nation with kur\\u2026 @URL\n",
      "Populated NaN at index 9459 with value 0 vs. 0 for text: i am half spic and Half white \\u2014 Good for you? @URL\n",
      "Populated NaN at index 4664 with value 0 vs. 0 for text: french german spanish ads annoying tops all. wtf twitter dont speak ching chong @url\n",
      "Populated NaN at index 170 with value 0 vs. 1 for text: Women are our property. The sooner they realize that, the better.\n",
      "Populated NaN at index 2123 with value 0 vs. 0 for text: @user dont agree petition admire lot supporting faggot @url\n",
      "Populated NaN at index 6246 with value 1 vs. 0 for text: yay kelas ching chong today\n",
      "Populated NaN at index 10897 with value 0 vs. 0 for text: This winter I'm buying me a big stupid dumb OC fly retarded as coat ....kill\\ud83d\\ude0a\n",
      "Populated NaN at index 7097 with value 0 vs. 0 for text: Fun fact: I give any person full claim to call me a beaner spic or wetback if I call anyone a slur which equates\\u2026 @URL\n",
      "Populated NaN at index 3867 with value 0 vs. 0 for text: senator ching chong asking dumb questions get next-ed?\n",
      "Populated NaN at index 6600 with value 0 vs. 0 for text: @user true! theyll go ching chong ching chong like its even funny making fun of people name la apa la god pls no :')\n",
      "Populated NaN at index 5396 with value 0 vs. 0 for text: tots godwin _ hilarious mongoloid @url\n",
      "Populated NaN at index 9020 with value 0 vs. 0 for text: @user It’s true but there was a report today that said there are 22 million illegal aliens in the US and in… @URL\n",
      "Populated NaN at index 9697 with value 0 vs. 0 for text: By day\\u2019s end mine should be spic &amp; span clean. \\ud83d\\ude02\\ud83d\\ude02 @URL\n",
      "Populated NaN at index 5727 with value 0 vs. 0 for text: une association qui vient en aide aux migrants @url\n",
      "Populated NaN at index 1248 with value 0 vs. 0 for text: get see retard tonight \n",
      "Populated NaN at index 5175 with value 0 vs. 0 for text: @user @user curtains cause need curtains want see close eyes retard\n",
      "Populated NaN at index 6120 with value 0 vs. 1 for text: I\\u2019m so done dealing with little bitches. Grow a fucking pair cunt.\n",
      "Populated NaN at index 4580 with value 0 vs. 0 for text: @user brother faggot ass coward\n",
      "Populated NaN at index 4877 with value 0 vs. 0 for text: @user shut fuck retard\n",
      "Populated NaN at index 9161 with value 0 vs. 0 for text: @user Bloody retard.. :)\n",
      "Populated NaN at index 2695 with value 0 vs. 0 for text: thought couldnt ching chong eyes proved wrong.\n",
      "Populated NaN at index 1488 with value 1 vs. 0 for text: 41 years ago today child born. parents feared worst (for second thought mongoloid). @url\n",
      "Populated NaN at index 160 with value 0 vs. 1 for text: All girls like you should have a pimp to guide them to successful prostitution\n",
      "Populated NaN at index 10775 with value 0 vs. 0 for text: Neil Lennon is a soup taker. @URL\n",
      "Populated NaN at index 3147 with value 0 vs. 0 for text: honestly cunt leather fuck already man\n",
      "Populated NaN at index 2328 with value 0 vs. 0 for text: chinamen's version bigfoot exiled albino mongoloid club feet big hairy thumbs roams th @url\n",
      "Populated NaN at index 6481 with value 1 vs. 0 for text: Aye no offense to faggots but I gotta call out a faggot\n",
      "Populated NaN at index 7952 with value 0 vs. 0 for text: @user It's just another mongy twitter account Shaun just report it for its racist remarks as I have jus\\u2026 @URL\n",
      "Populated NaN at index 6322 with value 0 vs. 0 for text: Big 37-20 oof @user is a faggot @URL\n",
      "Populated NaN at index 6872 with value 0 vs. 0 for text: The 10th Mongol Derby (@user the longest and toughest horse race in the world 1000 km across the Mo\\u2026 @URL\n",
      "Populated NaN at index 3624 with value 0 vs. 0 for text: @user especially mongy today honestly\n",
      "Populated NaN at index 952 with value 0 vs. 0 for text: men democrats see rights illegal aliens ms-13 terrorists etc.\n",
      "Populated NaN at index 4227 with value 0 vs. 0 for text: @user @user reality: citizen shithole country qualify asylum.nnreality @url\n",
      "Populated NaN at index 8382 with value 0 vs. 0 for text: @user drunk retard or high retard who will win this battle it's me btw\n",
      "Populated NaN at index 8249 with value 0 vs. 0 for text: @user One of these days one of those illegal aliens r going to bring in a deadly disease and kill half our c… @URL\n",
      "Populated NaN at index 8423 with value 0 vs. 0 for text: So is \\Robert Bowers\\ a Muslim or Mexican or Media or leftist Woman or Refugee?\\nWaiting..............................\n",
      "Populated NaN at index 3226 with value 0 vs. 0 for text: @user @user gonna great chinaman.\n",
      "Populated NaN at index 773 with value 0 vs. 0 for text: seen treat guests show? give break.nnif leftist attack calli @url\n",
      "Populated NaN at index 4898 with value 0 vs. 0 for text: @user i'd ain't spic i'm pope\n",
      "Populated NaN at index 3638 with value 0 vs. 0 for text: @user already said ok mongoloid\n",
      "Populated NaN at index 7803 with value 0 vs. 0 for text: Well maybe I'm the faggot America #GreenDay\n",
      "Populated NaN at index 6507 with value 0 vs. 0 for text: @user @user We've heard 11 million illegal aliens for decades. My guess it's over 30 million now es… @URL\n",
      "Populated NaN at index 8870 with value 0 vs. 0 for text: Its okay I forgive u- u spic ;) @URL\n",
      "Populated NaN at index 5864 with value 0 vs. 0 for text: : [i honestly hate get angry people say chink ching chong cing cong whatever fuck @url\n",
      "Populated NaN at index 3340 with value 0 vs. 0 for text: @user @user @user reason shithole country. greed cowardice stupidity @url\n",
      "Populated NaN at index 222 with value 0 vs. 0 for text: If I was your dad, I would have cut your penis and make you it, because it’s useless for you\n",
      "Populated NaN at index 11523 with value 0 vs. 0 for text: If your dreams is to find 100% comfort in Christianity go back to where you come from. If your dream is to sit at\\u2026 @URL\n",
      "Populated NaN at index 11282 with value 0 vs. 0 for text: If you think this is sport entertainment or culture you are a stupid cunt. @URL\n",
      "Populated NaN at index 2429 with value 0 vs. 1 for text: officials created sanctuary cities illegal aliens held responsible criminal @url\n",
      "Populated NaN at index 9392 with value 0 vs. 0 for text: This @user faggot needs to get knocked out\n",
      "Populated NaN at index 4379 with value 0 vs. 0 for text: @user im spic making choose two dead people wanna gotta die 4ever\n",
      "Populated NaN at index 6607 with value 1 vs. 0 for text: Well they have a job their job is being an activist and an ally to immigrants and the LGBTQ community...\n",
      "Populated NaN at index 5511 with value 0 vs. 0 for text: crush everyone say ignorant bs. second cute boy goes ching chong trump @url\n",
      "Populated NaN at index 3163 with value 0 vs. 0 for text: wealthy would-be immigrants told lie assets intentions  even identity | cbc news @url\n",
      "Populated NaN at index 5706 with value 0 vs. 0 for text: @user ramachandra ghua rajdeep hindus name secularism leftist media propaganda th @url\n",
      "Populated NaN at index 6945 with value 0 vs. 0 for text: These people are going to feel so mongoloid when a Bernie bro is the #MAGABomber @URL\n",
      "Populated NaN at index 2171 with value 0 vs. 0 for text: decency left shithole country richard spencer able stick hand @url\n",
      "Populated NaN at index 9031 with value 0 vs. 0 for text: man i cant wait for my apprenticeship to be over so i can quit my job and leave this shithole company maybe even gtfo of this country\n",
      "Populated NaN at index 3892 with value 0 vs. 0 for text: @user @user fucking spic know hit \n",
      "Populated NaN at index 11681 with value 0 vs. 0 for text: Lmfaooo fuckin ivan whata retard @URL\n",
      "Populated NaN at index 7582 with value 0 vs. 0 for text: @user AHAHAH wtf are u doing he's @user pax messaging me cunt @URL\n",
      "Populated NaN at index 6374 with value 0 vs. 0 for text: @user He\\u2019s a right fucking mongoloid recently Scott.\n",
      "Populated NaN at index 5482 with value 0 vs. 1 for text: feminazi full force time walk away crazy people @url\n",
      "Populated NaN at index 10054 with value 0 vs. 1 for text: @user @user You don’t find it credible that feminazi women lie are vicious nasty and revengeful if… @URL\n",
      "Populated NaN at index 9349 with value 0 vs. 0 for text: @user Are you a retard? Jeez!!\n",
      "Populated NaN at index 4158 with value 0 vs. 0 for text: god faggot?\n",
      "Populated NaN at index 7183 with value 1 vs. 0 for text: @user its okay u dont have to comfort me ive accepted that im unnaturally small its just how it has to be when ur a spic\n",
      "Populated NaN at index 4 with value 1 vs. 1 for text: Women are made for making babies and cooking dinner and nothing else!!!\n",
      "Populated NaN at index 8640 with value 0 vs. 0 for text: Her: This pussy gon make you retarded \\ud83d\\ude2c\\n \\nMe after I didn\\u2019t listen: @URL\n",
      "Populated NaN at index 7672 with value 0 vs. 1 for text: Old guy bangs young twat @URL\n",
      "Populated NaN at index 3100 with value 0 vs. 0 for text: @user blind chinaman could offensive coordinator there.\n",
      "Populated NaN at index 7116 with value 0 vs. 0 for text: MercPine9 you retard! xD #SquiggyBot\n",
      "Populated NaN at index 4950 with value 0 vs. 0 for text: brother gave house keys like ching chong yelled bad hes crying @url\n",
      "Populated NaN at index 942 with value 0 vs. 1 for text: @user @user fucking cunt\n",
      "Populated NaN at index 8983 with value 0 vs. 1 for text: We're all fucked if this terrorist loving cunt gets into power @URL\n",
      "Populated NaN at index 10766 with value 0 vs. 0 for text: @user @user The raghead problem in england. Hows those terrorist attacks?\n",
      "Populated NaN at index 4601 with value 0 vs. 0 for text: @user chinaman's chance hell would vote i've already voted guess voted for?\n",
      "Populated NaN at index 11190 with value 0 vs. 0 for text: Any spic queens tryna go live on our own rancho and run a drug smuggling operation w me\n",
      "Populated NaN at index 6431 with value 0 vs. 0 for text: people always say black people are from africa but I'm from the falkland islands so FUCK OFF.\n",
      "Populated NaN at index 3836 with value 0 vs. 0 for text: mongolia beautiful nature...#mongolia #mongol #nature #amazing @url\n",
      "Populated NaN at index 3168 with value 0 vs. 0 for text: cuz guess faggot made blue print\n",
      "Populated NaN at index 739 with value 0 vs. 0 for text: @user funny leftist always projecting morals people. giving billions terror state @url\n",
      "Populated NaN at index 6578 with value 1 vs. 0 for text: @user @user Maggie Twitter tonight one would think she is lesbian or feminazi or asexual.\n",
      "Populated NaN at index 4980 with value 0 vs. 0 for text: could snivel unfolding interiority mentally retarded\n",
      "Populated NaN at index 8379 with value 0 vs. 0 for text: Efficiently is the biggest retard on the planet\n",
      "Populated NaN at index 9159 with value 0 vs. 0 for text: hacked into this dumbasses account lol.............. retard @URL\n",
      "Populated NaN at index 350 with value 0 vs. 0 for text: Being blind would make me want suicide. Go kill yourself kid\n",
      "Populated NaN at index 6512 with value 0 vs. 0 for text: @user I'm old school. Grew up with prejudice but it wasn't like this. Who was a Pollack Mick spic wop kik\\u2026 @URL\n",
      "Populated NaN at index 10891 with value 0 vs. 0 for text: Somebody take this nigger phone away @URL\n",
      "Populated NaN at index 445 with value 0 vs. 0 for text: hahaha grow faggot @url\n",
      "Populated NaN at index 6491 with value 0 vs. 0 for text: Call me a spic shit at least u calling\n",
      "Populated NaN at index 1231 with value 0 vs. 0 for text: trump's making country shithole millions millions people.\n",
      "Populated NaN at index 1846 with value 0 vs. 0 for text: @user never go full retard moron. guy hated trump.\n",
      "Populated NaN at index 11457 with value 0 vs. 0 for text: @user you called me a braindead retard cause I did a card with vguardians so I thought you were a retard\\ud83d\\ude02\n",
      "Populated NaN at index 789 with value 0 vs. 0 for text: country shithole nn#usa attacking people #computing #torture #brainrape @url\n",
      "Populated NaN at index 9447 with value 0 vs. 0 for text: @user @user @user That's the point! It's only in a shithole country that you get to become\\u2026 @URL\n",
      "Populated NaN at index 10039 with value 1 vs. 0 for text: This retard is getting blocked lol\n"
     ]
    },
    {
     "ename": "KeyboardInterrupt",
     "evalue": "",
     "output_type": "error",
     "traceback": [
      "\u001b[1;31m---------------------------------------------------------------------------\u001b[0m",
      "\u001b[1;31mKeyboardInterrupt\u001b[0m                         Traceback (most recent call last)",
      "\u001b[1;32m~\\AppData\\Local\\Temp/ipykernel_7648/3445455650.py\u001b[0m in \u001b[0;36m<module>\u001b[1;34m\u001b[0m\n\u001b[0;32m      1\u001b[0m \u001b[1;31m# LLAMA\u001b[0m\u001b[1;33m\u001b[0m\u001b[1;33m\u001b[0m\u001b[0m\n\u001b[0;32m      2\u001b[0m \u001b[1;32mfor\u001b[0m \u001b[0mi\u001b[0m \u001b[1;32min\u001b[0m \u001b[0mrange\u001b[0m\u001b[1;33m(\u001b[0m\u001b[1;36m1000\u001b[0m\u001b[1;33m)\u001b[0m\u001b[1;33m:\u001b[0m\u001b[1;33m\u001b[0m\u001b[1;33m\u001b[0m\u001b[0m\n\u001b[1;32m----> 3\u001b[1;33m     \u001b[0mpopulate_row\u001b[0m\u001b[1;33m(\u001b[0m\u001b[1;34m\"llama3.2-3b\"\u001b[0m\u001b[1;33m)\u001b[0m\u001b[1;33m\u001b[0m\u001b[1;33m\u001b[0m\u001b[0m\n\u001b[0m",
      "\u001b[1;32m~\\AppData\\Local\\Temp/ipykernel_7648/3155380102.py\u001b[0m in \u001b[0;36mpopulate_row\u001b[1;34m(model)\u001b[0m\n\u001b[0;32m     21\u001b[0m         \u001b[0mprint\u001b[0m\u001b[1;33m(\u001b[0m\u001b[1;34mf\"No NaN values found in {model} column.\"\u001b[0m\u001b[1;33m)\u001b[0m\u001b[1;33m\u001b[0m\u001b[1;33m\u001b[0m\u001b[0m\n\u001b[0;32m     22\u001b[0m \u001b[1;33m\u001b[0m\u001b[0m\n\u001b[1;32m---> 23\u001b[1;33m     \u001b[0mdf\u001b[0m\u001b[1;33m.\u001b[0m\u001b[0mto_csv\u001b[0m\u001b[1;33m(\u001b[0m\u001b[1;34m\"./data/result/MASTER.csv\"\u001b[0m\u001b[1;33m,\u001b[0m \u001b[0mindex\u001b[0m\u001b[1;33m=\u001b[0m\u001b[1;32mFalse\u001b[0m\u001b[1;33m)\u001b[0m\u001b[1;33m\u001b[0m\u001b[1;33m\u001b[0m\u001b[0m\n\u001b[0m",
      "\u001b[1;32mc:\\Users\\Danylo\\AppData\\Local\\Programs\\Python\\Python310\\lib\\site-packages\\pandas\\util\\_decorators.py\u001b[0m in \u001b[0;36mwrapper\u001b[1;34m(*args, **kwargs)\u001b[0m\n\u001b[0;32m    209\u001b[0m                 \u001b[1;32melse\u001b[0m\u001b[1;33m:\u001b[0m\u001b[1;33m\u001b[0m\u001b[1;33m\u001b[0m\u001b[0m\n\u001b[0;32m    210\u001b[0m                     \u001b[0mkwargs\u001b[0m\u001b[1;33m[\u001b[0m\u001b[0mnew_arg_name\u001b[0m\u001b[1;33m]\u001b[0m \u001b[1;33m=\u001b[0m \u001b[0mnew_arg_value\u001b[0m\u001b[1;33m\u001b[0m\u001b[1;33m\u001b[0m\u001b[0m\n\u001b[1;32m--> 211\u001b[1;33m             \u001b[1;32mreturn\u001b[0m \u001b[0mfunc\u001b[0m\u001b[1;33m(\u001b[0m\u001b[1;33m*\u001b[0m\u001b[0margs\u001b[0m\u001b[1;33m,\u001b[0m \u001b[1;33m**\u001b[0m\u001b[0mkwargs\u001b[0m\u001b[1;33m)\u001b[0m\u001b[1;33m\u001b[0m\u001b[1;33m\u001b[0m\u001b[0m\n\u001b[0m\u001b[0;32m    212\u001b[0m \u001b[1;33m\u001b[0m\u001b[0m\n\u001b[0;32m    213\u001b[0m         \u001b[1;32mreturn\u001b[0m \u001b[0mcast\u001b[0m\u001b[1;33m(\u001b[0m\u001b[0mF\u001b[0m\u001b[1;33m,\u001b[0m \u001b[0mwrapper\u001b[0m\u001b[1;33m)\u001b[0m\u001b[1;33m\u001b[0m\u001b[1;33m\u001b[0m\u001b[0m\n",
      "\u001b[1;32mc:\\Users\\Danylo\\AppData\\Local\\Programs\\Python\\Python310\\lib\\site-packages\\pandas\\core\\generic.py\u001b[0m in \u001b[0;36mto_csv\u001b[1;34m(self, path_or_buf, sep, na_rep, float_format, columns, header, index, index_label, mode, encoding, compression, quoting, quotechar, lineterminator, chunksize, date_format, doublequote, escapechar, decimal, errors, storage_options)\u001b[0m\n\u001b[0;32m   3718\u001b[0m         )\n\u001b[0;32m   3719\u001b[0m \u001b[1;33m\u001b[0m\u001b[0m\n\u001b[1;32m-> 3720\u001b[1;33m         return DataFrameRenderer(formatter).to_csv(\n\u001b[0m\u001b[0;32m   3721\u001b[0m             \u001b[0mpath_or_buf\u001b[0m\u001b[1;33m,\u001b[0m\u001b[1;33m\u001b[0m\u001b[1;33m\u001b[0m\u001b[0m\n\u001b[0;32m   3722\u001b[0m             \u001b[0mlineterminator\u001b[0m\u001b[1;33m=\u001b[0m\u001b[0mlineterminator\u001b[0m\u001b[1;33m,\u001b[0m\u001b[1;33m\u001b[0m\u001b[1;33m\u001b[0m\u001b[0m\n",
      "\u001b[1;32mc:\\Users\\Danylo\\AppData\\Local\\Programs\\Python\\Python310\\lib\\site-packages\\pandas\\util\\_decorators.py\u001b[0m in \u001b[0;36mwrapper\u001b[1;34m(*args, **kwargs)\u001b[0m\n\u001b[0;32m    209\u001b[0m                 \u001b[1;32melse\u001b[0m\u001b[1;33m:\u001b[0m\u001b[1;33m\u001b[0m\u001b[1;33m\u001b[0m\u001b[0m\n\u001b[0;32m    210\u001b[0m                     \u001b[0mkwargs\u001b[0m\u001b[1;33m[\u001b[0m\u001b[0mnew_arg_name\u001b[0m\u001b[1;33m]\u001b[0m \u001b[1;33m=\u001b[0m \u001b[0mnew_arg_value\u001b[0m\u001b[1;33m\u001b[0m\u001b[1;33m\u001b[0m\u001b[0m\n\u001b[1;32m--> 211\u001b[1;33m             \u001b[1;32mreturn\u001b[0m \u001b[0mfunc\u001b[0m\u001b[1;33m(\u001b[0m\u001b[1;33m*\u001b[0m\u001b[0margs\u001b[0m\u001b[1;33m,\u001b[0m \u001b[1;33m**\u001b[0m\u001b[0mkwargs\u001b[0m\u001b[1;33m)\u001b[0m\u001b[1;33m\u001b[0m\u001b[1;33m\u001b[0m\u001b[0m\n\u001b[0m\u001b[0;32m    212\u001b[0m \u001b[1;33m\u001b[0m\u001b[0m\n\u001b[0;32m    213\u001b[0m         \u001b[1;32mreturn\u001b[0m \u001b[0mcast\u001b[0m\u001b[1;33m(\u001b[0m\u001b[0mF\u001b[0m\u001b[1;33m,\u001b[0m \u001b[0mwrapper\u001b[0m\u001b[1;33m)\u001b[0m\u001b[1;33m\u001b[0m\u001b[1;33m\u001b[0m\u001b[0m\n",
      "\u001b[1;32mc:\\Users\\Danylo\\AppData\\Local\\Programs\\Python\\Python310\\lib\\site-packages\\pandas\\io\\formats\\format.py\u001b[0m in \u001b[0;36mto_csv\u001b[1;34m(self, path_or_buf, encoding, sep, columns, index_label, mode, compression, quoting, quotechar, lineterminator, chunksize, date_format, doublequote, escapechar, errors, storage_options)\u001b[0m\n\u001b[0;32m   1187\u001b[0m             \u001b[0mformatter\u001b[0m\u001b[1;33m=\u001b[0m\u001b[0mself\u001b[0m\u001b[1;33m.\u001b[0m\u001b[0mfmt\u001b[0m\u001b[1;33m,\u001b[0m\u001b[1;33m\u001b[0m\u001b[1;33m\u001b[0m\u001b[0m\n\u001b[0;32m   1188\u001b[0m         )\n\u001b[1;32m-> 1189\u001b[1;33m         \u001b[0mcsv_formatter\u001b[0m\u001b[1;33m.\u001b[0m\u001b[0msave\u001b[0m\u001b[1;33m(\u001b[0m\u001b[1;33m)\u001b[0m\u001b[1;33m\u001b[0m\u001b[1;33m\u001b[0m\u001b[0m\n\u001b[0m\u001b[0;32m   1190\u001b[0m \u001b[1;33m\u001b[0m\u001b[0m\n\u001b[0;32m   1191\u001b[0m         \u001b[1;32mif\u001b[0m \u001b[0mcreated_buffer\u001b[0m\u001b[1;33m:\u001b[0m\u001b[1;33m\u001b[0m\u001b[1;33m\u001b[0m\u001b[0m\n",
      "\u001b[1;32mc:\\Users\\Danylo\\AppData\\Local\\Programs\\Python\\Python310\\lib\\site-packages\\pandas\\io\\formats\\csvs.py\u001b[0m in \u001b[0;36msave\u001b[1;34m(self)\u001b[0m\n\u001b[0;32m    259\u001b[0m             )\n\u001b[0;32m    260\u001b[0m \u001b[1;33m\u001b[0m\u001b[0m\n\u001b[1;32m--> 261\u001b[1;33m             \u001b[0mself\u001b[0m\u001b[1;33m.\u001b[0m\u001b[0m_save\u001b[0m\u001b[1;33m(\u001b[0m\u001b[1;33m)\u001b[0m\u001b[1;33m\u001b[0m\u001b[1;33m\u001b[0m\u001b[0m\n\u001b[0m\u001b[0;32m    262\u001b[0m \u001b[1;33m\u001b[0m\u001b[0m\n\u001b[0;32m    263\u001b[0m     \u001b[1;32mdef\u001b[0m \u001b[0m_save\u001b[0m\u001b[1;33m(\u001b[0m\u001b[0mself\u001b[0m\u001b[1;33m)\u001b[0m \u001b[1;33m->\u001b[0m \u001b[1;32mNone\u001b[0m\u001b[1;33m:\u001b[0m\u001b[1;33m\u001b[0m\u001b[1;33m\u001b[0m\u001b[0m\n",
      "\u001b[1;32mc:\\Users\\Danylo\\AppData\\Local\\Programs\\Python\\Python310\\lib\\site-packages\\pandas\\io\\formats\\csvs.py\u001b[0m in \u001b[0;36m_save\u001b[1;34m(self)\u001b[0m\n\u001b[0;32m    264\u001b[0m         \u001b[1;32mif\u001b[0m \u001b[0mself\u001b[0m\u001b[1;33m.\u001b[0m\u001b[0m_need_to_save_header\u001b[0m\u001b[1;33m:\u001b[0m\u001b[1;33m\u001b[0m\u001b[1;33m\u001b[0m\u001b[0m\n\u001b[0;32m    265\u001b[0m             \u001b[0mself\u001b[0m\u001b[1;33m.\u001b[0m\u001b[0m_save_header\u001b[0m\u001b[1;33m(\u001b[0m\u001b[1;33m)\u001b[0m\u001b[1;33m\u001b[0m\u001b[1;33m\u001b[0m\u001b[0m\n\u001b[1;32m--> 266\u001b[1;33m         \u001b[0mself\u001b[0m\u001b[1;33m.\u001b[0m\u001b[0m_save_body\u001b[0m\u001b[1;33m(\u001b[0m\u001b[1;33m)\u001b[0m\u001b[1;33m\u001b[0m\u001b[1;33m\u001b[0m\u001b[0m\n\u001b[0m\u001b[0;32m    267\u001b[0m \u001b[1;33m\u001b[0m\u001b[0m\n\u001b[0;32m    268\u001b[0m     \u001b[1;32mdef\u001b[0m \u001b[0m_save_header\u001b[0m\u001b[1;33m(\u001b[0m\u001b[0mself\u001b[0m\u001b[1;33m)\u001b[0m \u001b[1;33m->\u001b[0m \u001b[1;32mNone\u001b[0m\u001b[1;33m:\u001b[0m\u001b[1;33m\u001b[0m\u001b[1;33m\u001b[0m\u001b[0m\n",
      "\u001b[1;32mc:\\Users\\Danylo\\AppData\\Local\\Programs\\Python\\Python310\\lib\\site-packages\\pandas\\io\\formats\\csvs.py\u001b[0m in \u001b[0;36m_save_body\u001b[1;34m(self)\u001b[0m\n\u001b[0;32m    302\u001b[0m             \u001b[1;32mif\u001b[0m \u001b[0mstart_i\u001b[0m \u001b[1;33m>=\u001b[0m \u001b[0mend_i\u001b[0m\u001b[1;33m:\u001b[0m\u001b[1;33m\u001b[0m\u001b[1;33m\u001b[0m\u001b[0m\n\u001b[0;32m    303\u001b[0m                 \u001b[1;32mbreak\u001b[0m\u001b[1;33m\u001b[0m\u001b[1;33m\u001b[0m\u001b[0m\n\u001b[1;32m--> 304\u001b[1;33m             \u001b[0mself\u001b[0m\u001b[1;33m.\u001b[0m\u001b[0m_save_chunk\u001b[0m\u001b[1;33m(\u001b[0m\u001b[0mstart_i\u001b[0m\u001b[1;33m,\u001b[0m \u001b[0mend_i\u001b[0m\u001b[1;33m)\u001b[0m\u001b[1;33m\u001b[0m\u001b[1;33m\u001b[0m\u001b[0m\n\u001b[0m\u001b[0;32m    305\u001b[0m \u001b[1;33m\u001b[0m\u001b[0m\n\u001b[0;32m    306\u001b[0m     \u001b[1;32mdef\u001b[0m \u001b[0m_save_chunk\u001b[0m\u001b[1;33m(\u001b[0m\u001b[0mself\u001b[0m\u001b[1;33m,\u001b[0m \u001b[0mstart_i\u001b[0m\u001b[1;33m:\u001b[0m \u001b[0mint\u001b[0m\u001b[1;33m,\u001b[0m \u001b[0mend_i\u001b[0m\u001b[1;33m:\u001b[0m \u001b[0mint\u001b[0m\u001b[1;33m)\u001b[0m \u001b[1;33m->\u001b[0m \u001b[1;32mNone\u001b[0m\u001b[1;33m:\u001b[0m\u001b[1;33m\u001b[0m\u001b[1;33m\u001b[0m\u001b[0m\n",
      "\u001b[1;32mc:\\Users\\Danylo\\AppData\\Local\\Programs\\Python\\Python310\\lib\\site-packages\\pandas\\io\\formats\\csvs.py\u001b[0m in \u001b[0;36m_save_chunk\u001b[1;34m(self, start_i, end_i)\u001b[0m\n\u001b[0;32m    312\u001b[0m         \u001b[0mdata\u001b[0m \u001b[1;33m=\u001b[0m \u001b[1;33m[\u001b[0m\u001b[0mres\u001b[0m\u001b[1;33m.\u001b[0m\u001b[0miget_values\u001b[0m\u001b[1;33m(\u001b[0m\u001b[0mi\u001b[0m\u001b[1;33m)\u001b[0m \u001b[1;32mfor\u001b[0m \u001b[0mi\u001b[0m \u001b[1;32min\u001b[0m \u001b[0mrange\u001b[0m\u001b[1;33m(\u001b[0m\u001b[0mlen\u001b[0m\u001b[1;33m(\u001b[0m\u001b[0mres\u001b[0m\u001b[1;33m.\u001b[0m\u001b[0mitems\u001b[0m\u001b[1;33m)\u001b[0m\u001b[1;33m)\u001b[0m\u001b[1;33m]\u001b[0m\u001b[1;33m\u001b[0m\u001b[1;33m\u001b[0m\u001b[0m\n\u001b[0;32m    313\u001b[0m \u001b[1;33m\u001b[0m\u001b[0m\n\u001b[1;32m--> 314\u001b[1;33m         \u001b[0mix\u001b[0m \u001b[1;33m=\u001b[0m \u001b[0mself\u001b[0m\u001b[1;33m.\u001b[0m\u001b[0mdata_index\u001b[0m\u001b[1;33m[\u001b[0m\u001b[0mslicer\u001b[0m\u001b[1;33m]\u001b[0m\u001b[1;33m.\u001b[0m\u001b[0m_format_native_types\u001b[0m\u001b[1;33m(\u001b[0m\u001b[1;33m**\u001b[0m\u001b[0mself\u001b[0m\u001b[1;33m.\u001b[0m\u001b[0m_number_format\u001b[0m\u001b[1;33m)\u001b[0m\u001b[1;33m\u001b[0m\u001b[1;33m\u001b[0m\u001b[0m\n\u001b[0m\u001b[0;32m    315\u001b[0m         libwriters.write_csv_rows(\n\u001b[0;32m    316\u001b[0m             \u001b[0mdata\u001b[0m\u001b[1;33m,\u001b[0m\u001b[1;33m\u001b[0m\u001b[1;33m\u001b[0m\u001b[0m\n",
      "\u001b[1;32mc:\\Users\\Danylo\\AppData\\Local\\Programs\\Python\\Python310\\lib\\site-packages\\pandas\\core\\indexes\\numeric.py\u001b[0m in \u001b[0;36m_format_native_types\u001b[1;34m(self, na_rep, float_format, decimal, quoting, **kwargs)\u001b[0m\n\u001b[0;32m    296\u001b[0m             \u001b[1;32mreturn\u001b[0m \u001b[0mformatter\u001b[0m\u001b[1;33m.\u001b[0m\u001b[0mget_result_as_array\u001b[0m\u001b[1;33m(\u001b[0m\u001b[1;33m)\u001b[0m\u001b[1;33m\u001b[0m\u001b[1;33m\u001b[0m\u001b[0m\n\u001b[0;32m    297\u001b[0m \u001b[1;33m\u001b[0m\u001b[0m\n\u001b[1;32m--> 298\u001b[1;33m         return super()._format_native_types(\n\u001b[0m\u001b[0;32m    299\u001b[0m             \u001b[0mna_rep\u001b[0m\u001b[1;33m=\u001b[0m\u001b[0mna_rep\u001b[0m\u001b[1;33m,\u001b[0m\u001b[1;33m\u001b[0m\u001b[1;33m\u001b[0m\u001b[0m\n\u001b[0;32m    300\u001b[0m             \u001b[0mfloat_format\u001b[0m\u001b[1;33m=\u001b[0m\u001b[0mfloat_format\u001b[0m\u001b[1;33m,\u001b[0m\u001b[1;33m\u001b[0m\u001b[1;33m\u001b[0m\u001b[0m\n",
      "\u001b[1;32mc:\\Users\\Danylo\\AppData\\Local\\Programs\\Python\\Python310\\lib\\site-packages\\pandas\\core\\indexes\\base.py\u001b[0m in \u001b[0;36m_format_native_types\u001b[1;34m(self, na_rep, quoting, **kwargs)\u001b[0m\n\u001b[0;32m   1532\u001b[0m         \u001b[0mmask\u001b[0m \u001b[1;33m=\u001b[0m \u001b[0misna\u001b[0m\u001b[1;33m(\u001b[0m\u001b[0mself\u001b[0m\u001b[1;33m)\u001b[0m\u001b[1;33m\u001b[0m\u001b[1;33m\u001b[0m\u001b[0m\n\u001b[0;32m   1533\u001b[0m         \u001b[1;32mif\u001b[0m \u001b[1;32mnot\u001b[0m \u001b[0mself\u001b[0m\u001b[1;33m.\u001b[0m\u001b[0mis_object\u001b[0m\u001b[1;33m(\u001b[0m\u001b[1;33m)\u001b[0m \u001b[1;32mand\u001b[0m \u001b[1;32mnot\u001b[0m \u001b[0mquoting\u001b[0m\u001b[1;33m:\u001b[0m\u001b[1;33m\u001b[0m\u001b[1;33m\u001b[0m\u001b[0m\n\u001b[1;32m-> 1534\u001b[1;33m             \u001b[0mvalues\u001b[0m \u001b[1;33m=\u001b[0m \u001b[0mnp\u001b[0m\u001b[1;33m.\u001b[0m\u001b[0masarray\u001b[0m\u001b[1;33m(\u001b[0m\u001b[0mself\u001b[0m\u001b[1;33m)\u001b[0m\u001b[1;33m.\u001b[0m\u001b[0mastype\u001b[0m\u001b[1;33m(\u001b[0m\u001b[0mstr\u001b[0m\u001b[1;33m)\u001b[0m\u001b[1;33m\u001b[0m\u001b[1;33m\u001b[0m\u001b[0m\n\u001b[0m\u001b[0;32m   1535\u001b[0m         \u001b[1;32melse\u001b[0m\u001b[1;33m:\u001b[0m\u001b[1;33m\u001b[0m\u001b[1;33m\u001b[0m\u001b[0m\n\u001b[0;32m   1536\u001b[0m             \u001b[0mvalues\u001b[0m \u001b[1;33m=\u001b[0m \u001b[0mnp\u001b[0m\u001b[1;33m.\u001b[0m\u001b[0marray\u001b[0m\u001b[1;33m(\u001b[0m\u001b[0mself\u001b[0m\u001b[1;33m,\u001b[0m \u001b[0mdtype\u001b[0m\u001b[1;33m=\u001b[0m\u001b[0mobject\u001b[0m\u001b[1;33m,\u001b[0m \u001b[0mcopy\u001b[0m\u001b[1;33m=\u001b[0m\u001b[1;32mTrue\u001b[0m\u001b[1;33m)\u001b[0m\u001b[1;33m\u001b[0m\u001b[1;33m\u001b[0m\u001b[0m\n",
      "\u001b[1;31mKeyboardInterrupt\u001b[0m: "
     ]
    }
   ],
   "source": [
    "# LLAMA \n",
    "for i in range(1000):\n",
    "    populate_row(\"llama3.2-3b\")"
   ]
  },
  {
   "cell_type": "code",
   "execution_count": null,
   "metadata": {},
   "outputs": [],
   "source": [
    "# GEMINI\n",
    "for i in range(1000):\n",
    "    try:\n",
    "        populate_row(\"gemini-1.5-flash\")\n",
    "    except:\n",
    "        print(\"Error occured\")\n",
    "    time.sleep(4) # to avoid rate limiting"
   ]
  },
  {
   "cell_type": "code",
   "execution_count": null,
   "metadata": {},
   "outputs": [],
   "source": [
    "import pandas as pd\n",
    "import random\n",
    "import time\n",
    "\n",
    "from LLM.gpt import send_requestGPT\n",
    "from LLM.gemini import send_requestGemini\n",
    "\n",
    "from openai import OpenAI\n",
    "\n",
    "client = OpenAI()\n",
    "thread = client.beta.threads.create()\n",
    "\n",
    "message = client.beta.threads.messages.create(\n",
    "  thread_id=thread.id,\n",
    "  role=\"user\",\n",
    "  content=\"I love you\"\n",
    ")\n",
    "run = client.beta.threads.runs.create_and_poll(\n",
    "  thread_id=thread.id,\n",
    "  assistant_id=\"asst_fADAB9avOLE36JcUYQWRjece\"\n",
    ")\n"
   ]
  },
  {
   "cell_type": "code",
   "execution_count": null,
   "metadata": {},
   "outputs": [],
   "source": [
    "if run.status == 'completed': \n",
    "  messages = client.beta.threads.messages.list(\n",
    "    thread_id=thread.id\n",
    "  )\n",
    "  print(messages.data[0].content[0].text.value)\n",
    "else:\n",
    "  print(run.status)"
   ]
  },
  {
   "cell_type": "code",
   "execution_count": null,
   "metadata": {},
   "outputs": [],
   "source": [
    "df = pd.read_csv(\"./data/result/MASTER.csv\")\n",
    "# reorder columns to the following: ID,dataset,SEXISM,gpt-4o-mini,gpt-4-0125-preview,gpt-3.5-turbo-0125,llama3.2-3b,llama3.1-8b,llama3-8b,gemini-1.5-flash,text\n",
    "#df['llama3.2-3b'] = None\n",
    "#df['llama3.1-8b'] = None\n",
    "#df['llama3-8b'] = None\n",
    "df = df[['ID','dataset','SEXISM','gpt-4o-mini','gpt-4-0125-preview','gpt-3.5-turbo-0125','llama3.2-3b','llama3.1-8b','llama3-8b','gemini-1.5-flash','text']]\n",
    "df.to_csv(\"./data/result/MASTER.csv\", index=False)"
   ]
  }
 ],
 "metadata": {
  "kernelspec": {
   "display_name": "Python 3",
   "language": "python",
   "name": "python3"
  },
  "language_info": {
   "codemirror_mode": {
    "name": "ipython",
    "version": 3
   },
   "file_extension": ".py",
   "mimetype": "text/x-python",
   "name": "python",
   "nbconvert_exporter": "python",
   "pygments_lexer": "ipython3",
   "version": "3.10.1"
  }
 },
 "nbformat": 4,
 "nbformat_minor": 2
}
